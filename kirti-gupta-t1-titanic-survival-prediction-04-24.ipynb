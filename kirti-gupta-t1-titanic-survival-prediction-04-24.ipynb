{
 "cells": [
  {
   "cell_type": "markdown",
   "id": "1cf3d841",
   "metadata": {
    "papermill": {
     "duration": 0.012817,
     "end_time": "2024-04-29T04:28:15.765909",
     "exception": false,
     "start_time": "2024-04-29T04:28:15.753092",
     "status": "completed"
    },
    "tags": []
   },
   "source": [
    "# Task 1 :  Titanic Survival Prediction \n",
    "# Author:  Kirti Gupta\n",
    "# Batch :  April 2024"
   ]
  },
  {
   "cell_type": "markdown",
   "id": "6dececae",
   "metadata": {
    "papermill": {
     "duration": 0.01216,
     "end_time": "2024-04-29T04:28:15.790612",
     "exception": false,
     "start_time": "2024-04-29T04:28:15.778452",
     "status": "completed"
    },
    "tags": []
   },
   "source": [
    "**Task : TITANIC SURVIVAL PREDICTION**\n",
    "\n",
    "Use the Titanic dataset to build a model that predicts whether a passenger on the Titanic survived or not. This is a classic beginner project with readily available data.\n",
    "\n",
    "The dataset typically used for this project contains information about individual passengers, such as their age, gender, ticket class, fare, cabin, and whether or not they survived."
   ]
  },
  {
   "cell_type": "markdown",
   "id": "33e69ee9",
   "metadata": {
    "papermill": {
     "duration": 0.012519,
     "end_time": "2024-04-29T04:28:15.815494",
     "exception": false,
     "start_time": "2024-04-29T04:28:15.802975",
     "status": "completed"
    },
    "tags": []
   },
   "source": [
    "# **Data Description**\n",
    "\n",
    "**pclass**: A proxy for socio-economic status (SES)\n",
    "* 1st = Upper\n",
    "* 2nd = Middle\n",
    "* 3rd = Lower\n",
    "\n",
    "**age**: Age is fractional if less than 1. If the age is estimated, is it in the form of xx.5\n",
    "\n",
    "**sibsp**: The dataset defines family relations in this way...\n",
    "* **Sibling**= brother, sister, stepbrother, stepsister\n",
    "* **Spouse** = husband, wife (mistresses and fiancés were ignored)\n",
    "**parch**: The dataset defines family relations in this way...\n",
    "* **Parent** = mother, father\n",
    "* **Child** = daughter, son, stepdaughter, stepson Some children travelled only with a nanny, therefore parch=0 for them."
   ]
  },
  {
   "cell_type": "markdown",
   "id": "ec26df25",
   "metadata": {
    "papermill": {
     "duration": 0.013721,
     "end_time": "2024-04-29T04:28:15.841599",
     "exception": false,
     "start_time": "2024-04-29T04:28:15.827878",
     "status": "completed"
    },
    "tags": []
   },
   "source": [
    "# **Importing dataset and libraries**"
   ]
  },
  {
   "cell_type": "code",
   "execution_count": 1,
   "id": "eac59289",
   "metadata": {
    "_cell_guid": "b1076dfc-b9ad-4769-8c92-a6c4dae69d19",
    "_uuid": "8f2839f25d086af736a60e9eeb907d3b93b6e0e5",
    "execution": {
     "iopub.execute_input": "2024-04-29T04:28:15.893739Z",
     "iopub.status.busy": "2024-04-29T04:28:15.888448Z",
     "iopub.status.idle": "2024-04-29T04:28:16.828446Z",
     "shell.execute_reply": "2024-04-29T04:28:16.827219Z"
    },
    "papermill": {
     "duration": 0.977232,
     "end_time": "2024-04-29T04:28:16.831079",
     "exception": false,
     "start_time": "2024-04-29T04:28:15.853847",
     "status": "completed"
    },
    "tags": []
   },
   "outputs": [
    {
     "name": "stdout",
     "output_type": "stream",
     "text": [
      "/kaggle/input/titanic-dataset/Titanic-Dataset.csv\n"
     ]
    }
   ],
   "source": [
    "# This Python 3 environment comes with many helpful analytics libraries installed\n",
    "# It is defined by the kaggle/python Docker image: https://github.com/kaggle/docker-python\n",
    "# For example, here's several helpful packages to load\n",
    "\n",
    "import numpy as np # linear algebra\n",
    "import pandas as pd # data processing, CSV file I/O (e.g. pd.read_csv)\n",
    "\n",
    "# Input data files are available in the read-only \"../input/\" directory\n",
    "# For example, running this (by clicking run or pressing Shift+Enter) will list all files under the input directory\n",
    "\n",
    "import os\n",
    "for dirname, _, filenames in os.walk('/kaggle/input'):\n",
    "    for filename in filenames:\n",
    "        print(os.path.join(dirname, filename))\n",
    "\n",
    "# You can write up to 20GB to the current directory (/kaggle/working/) that gets preserved as output when you create a version using \"Save & Run All\" \n",
    "# You can also write temporary files to /kaggle/temp/, but they won't be saved outside of the current session"
   ]
  },
  {
   "cell_type": "code",
   "execution_count": 2,
   "id": "f0b0d683",
   "metadata": {
    "execution": {
     "iopub.execute_input": "2024-04-29T04:28:16.859195Z",
     "iopub.status.busy": "2024-04-29T04:28:16.858206Z",
     "iopub.status.idle": "2024-04-29T04:28:18.787053Z",
     "shell.execute_reply": "2024-04-29T04:28:18.785761Z"
    },
    "papermill": {
     "duration": 1.945594,
     "end_time": "2024-04-29T04:28:18.790191",
     "exception": false,
     "start_time": "2024-04-29T04:28:16.844597",
     "status": "completed"
    },
    "tags": []
   },
   "outputs": [],
   "source": [
    "import numpy as np \n",
    "import pandas as pd \n",
    "import matplotlib.pyplot as plt \n",
    "import seaborn as sns\n",
    "from sklearn.model_selection import train_test_split\n",
    "from sklearn.linear_model import LogisticRegression\n",
    "from sklearn.metrics import accuracy_score"
   ]
  },
  {
   "cell_type": "markdown",
   "id": "ab30e075",
   "metadata": {
    "papermill": {
     "duration": 0.012289,
     "end_time": "2024-04-29T04:28:18.815513",
     "exception": false,
     "start_time": "2024-04-29T04:28:18.803224",
     "status": "completed"
    },
    "tags": []
   },
   "source": [
    "# **DATA**"
   ]
  },
  {
   "cell_type": "code",
   "execution_count": 3,
   "id": "9e8400ec",
   "metadata": {
    "execution": {
     "iopub.execute_input": "2024-04-29T04:28:18.843332Z",
     "iopub.status.busy": "2024-04-29T04:28:18.842427Z",
     "iopub.status.idle": "2024-04-29T04:28:18.866199Z",
     "shell.execute_reply": "2024-04-29T04:28:18.864796Z"
    },
    "papermill": {
     "duration": 0.041505,
     "end_time": "2024-04-29T04:28:18.869774",
     "exception": false,
     "start_time": "2024-04-29T04:28:18.828269",
     "status": "completed"
    },
    "tags": []
   },
   "outputs": [],
   "source": [
    "data=pd.read_csv(\"/kaggle/input/titanic-dataset/Titanic-Dataset.csv\")"
   ]
  },
  {
   "cell_type": "code",
   "execution_count": 4,
   "id": "81a670ae",
   "metadata": {
    "execution": {
     "iopub.execute_input": "2024-04-29T04:28:18.902201Z",
     "iopub.status.busy": "2024-04-29T04:28:18.901700Z",
     "iopub.status.idle": "2024-04-29T04:28:18.932378Z",
     "shell.execute_reply": "2024-04-29T04:28:18.931154Z"
    },
    "papermill": {
     "duration": 0.049614,
     "end_time": "2024-04-29T04:28:18.934855",
     "exception": false,
     "start_time": "2024-04-29T04:28:18.885241",
     "status": "completed"
    },
    "tags": []
   },
   "outputs": [
    {
     "data": {
      "text/html": [
       "<div>\n",
       "<style scoped>\n",
       "    .dataframe tbody tr th:only-of-type {\n",
       "        vertical-align: middle;\n",
       "    }\n",
       "\n",
       "    .dataframe tbody tr th {\n",
       "        vertical-align: top;\n",
       "    }\n",
       "\n",
       "    .dataframe thead th {\n",
       "        text-align: right;\n",
       "    }\n",
       "</style>\n",
       "<table border=\"1\" class=\"dataframe\">\n",
       "  <thead>\n",
       "    <tr style=\"text-align: right;\">\n",
       "      <th></th>\n",
       "      <th>PassengerId</th>\n",
       "      <th>Survived</th>\n",
       "      <th>Pclass</th>\n",
       "      <th>Name</th>\n",
       "      <th>Sex</th>\n",
       "      <th>Age</th>\n",
       "      <th>SibSp</th>\n",
       "      <th>Parch</th>\n",
       "      <th>Ticket</th>\n",
       "      <th>Fare</th>\n",
       "      <th>Cabin</th>\n",
       "      <th>Embarked</th>\n",
       "    </tr>\n",
       "  </thead>\n",
       "  <tbody>\n",
       "    <tr>\n",
       "      <th>0</th>\n",
       "      <td>1</td>\n",
       "      <td>0</td>\n",
       "      <td>3</td>\n",
       "      <td>Braund, Mr. Owen Harris</td>\n",
       "      <td>male</td>\n",
       "      <td>22.0</td>\n",
       "      <td>1</td>\n",
       "      <td>0</td>\n",
       "      <td>A/5 21171</td>\n",
       "      <td>7.2500</td>\n",
       "      <td>NaN</td>\n",
       "      <td>S</td>\n",
       "    </tr>\n",
       "    <tr>\n",
       "      <th>1</th>\n",
       "      <td>2</td>\n",
       "      <td>1</td>\n",
       "      <td>1</td>\n",
       "      <td>Cumings, Mrs. John Bradley (Florence Briggs Th...</td>\n",
       "      <td>female</td>\n",
       "      <td>38.0</td>\n",
       "      <td>1</td>\n",
       "      <td>0</td>\n",
       "      <td>PC 17599</td>\n",
       "      <td>71.2833</td>\n",
       "      <td>C85</td>\n",
       "      <td>C</td>\n",
       "    </tr>\n",
       "    <tr>\n",
       "      <th>2</th>\n",
       "      <td>3</td>\n",
       "      <td>1</td>\n",
       "      <td>3</td>\n",
       "      <td>Heikkinen, Miss. Laina</td>\n",
       "      <td>female</td>\n",
       "      <td>26.0</td>\n",
       "      <td>0</td>\n",
       "      <td>0</td>\n",
       "      <td>STON/O2. 3101282</td>\n",
       "      <td>7.9250</td>\n",
       "      <td>NaN</td>\n",
       "      <td>S</td>\n",
       "    </tr>\n",
       "    <tr>\n",
       "      <th>3</th>\n",
       "      <td>4</td>\n",
       "      <td>1</td>\n",
       "      <td>1</td>\n",
       "      <td>Futrelle, Mrs. Jacques Heath (Lily May Peel)</td>\n",
       "      <td>female</td>\n",
       "      <td>35.0</td>\n",
       "      <td>1</td>\n",
       "      <td>0</td>\n",
       "      <td>113803</td>\n",
       "      <td>53.1000</td>\n",
       "      <td>C123</td>\n",
       "      <td>S</td>\n",
       "    </tr>\n",
       "    <tr>\n",
       "      <th>4</th>\n",
       "      <td>5</td>\n",
       "      <td>0</td>\n",
       "      <td>3</td>\n",
       "      <td>Allen, Mr. William Henry</td>\n",
       "      <td>male</td>\n",
       "      <td>35.0</td>\n",
       "      <td>0</td>\n",
       "      <td>0</td>\n",
       "      <td>373450</td>\n",
       "      <td>8.0500</td>\n",
       "      <td>NaN</td>\n",
       "      <td>S</td>\n",
       "    </tr>\n",
       "  </tbody>\n",
       "</table>\n",
       "</div>"
      ],
      "text/plain": [
       "   PassengerId  Survived  Pclass  \\\n",
       "0            1         0       3   \n",
       "1            2         1       1   \n",
       "2            3         1       3   \n",
       "3            4         1       1   \n",
       "4            5         0       3   \n",
       "\n",
       "                                                Name     Sex   Age  SibSp  \\\n",
       "0                            Braund, Mr. Owen Harris    male  22.0      1   \n",
       "1  Cumings, Mrs. John Bradley (Florence Briggs Th...  female  38.0      1   \n",
       "2                             Heikkinen, Miss. Laina  female  26.0      0   \n",
       "3       Futrelle, Mrs. Jacques Heath (Lily May Peel)  female  35.0      1   \n",
       "4                           Allen, Mr. William Henry    male  35.0      0   \n",
       "\n",
       "   Parch            Ticket     Fare Cabin Embarked  \n",
       "0      0         A/5 21171   7.2500   NaN        S  \n",
       "1      0          PC 17599  71.2833   C85        C  \n",
       "2      0  STON/O2. 3101282   7.9250   NaN        S  \n",
       "3      0            113803  53.1000  C123        S  \n",
       "4      0            373450   8.0500   NaN        S  "
      ]
     },
     "execution_count": 4,
     "metadata": {},
     "output_type": "execute_result"
    }
   ],
   "source": [
    "data.head(5)"
   ]
  },
  {
   "cell_type": "code",
   "execution_count": 5,
   "id": "a6d327f7",
   "metadata": {
    "execution": {
     "iopub.execute_input": "2024-04-29T04:28:18.962443Z",
     "iopub.status.busy": "2024-04-29T04:28:18.961937Z",
     "iopub.status.idle": "2024-04-29T04:28:19.003025Z",
     "shell.execute_reply": "2024-04-29T04:28:19.001770Z"
    },
    "papermill": {
     "duration": 0.057787,
     "end_time": "2024-04-29T04:28:19.005479",
     "exception": false,
     "start_time": "2024-04-29T04:28:18.947692",
     "status": "completed"
    },
    "tags": []
   },
   "outputs": [
    {
     "data": {
      "text/html": [
       "<div>\n",
       "<style scoped>\n",
       "    .dataframe tbody tr th:only-of-type {\n",
       "        vertical-align: middle;\n",
       "    }\n",
       "\n",
       "    .dataframe tbody tr th {\n",
       "        vertical-align: top;\n",
       "    }\n",
       "\n",
       "    .dataframe thead th {\n",
       "        text-align: right;\n",
       "    }\n",
       "</style>\n",
       "<table border=\"1\" class=\"dataframe\">\n",
       "  <thead>\n",
       "    <tr style=\"text-align: right;\">\n",
       "      <th></th>\n",
       "      <th>PassengerId</th>\n",
       "      <th>Survived</th>\n",
       "      <th>Pclass</th>\n",
       "      <th>Age</th>\n",
       "      <th>SibSp</th>\n",
       "      <th>Parch</th>\n",
       "      <th>Fare</th>\n",
       "    </tr>\n",
       "  </thead>\n",
       "  <tbody>\n",
       "    <tr>\n",
       "      <th>count</th>\n",
       "      <td>891.000000</td>\n",
       "      <td>891.000000</td>\n",
       "      <td>891.000000</td>\n",
       "      <td>714.000000</td>\n",
       "      <td>891.000000</td>\n",
       "      <td>891.000000</td>\n",
       "      <td>891.000000</td>\n",
       "    </tr>\n",
       "    <tr>\n",
       "      <th>mean</th>\n",
       "      <td>446.000000</td>\n",
       "      <td>0.383838</td>\n",
       "      <td>2.308642</td>\n",
       "      <td>29.699118</td>\n",
       "      <td>0.523008</td>\n",
       "      <td>0.381594</td>\n",
       "      <td>32.204208</td>\n",
       "    </tr>\n",
       "    <tr>\n",
       "      <th>std</th>\n",
       "      <td>257.353842</td>\n",
       "      <td>0.486592</td>\n",
       "      <td>0.836071</td>\n",
       "      <td>14.526497</td>\n",
       "      <td>1.102743</td>\n",
       "      <td>0.806057</td>\n",
       "      <td>49.693429</td>\n",
       "    </tr>\n",
       "    <tr>\n",
       "      <th>min</th>\n",
       "      <td>1.000000</td>\n",
       "      <td>0.000000</td>\n",
       "      <td>1.000000</td>\n",
       "      <td>0.420000</td>\n",
       "      <td>0.000000</td>\n",
       "      <td>0.000000</td>\n",
       "      <td>0.000000</td>\n",
       "    </tr>\n",
       "    <tr>\n",
       "      <th>25%</th>\n",
       "      <td>223.500000</td>\n",
       "      <td>0.000000</td>\n",
       "      <td>2.000000</td>\n",
       "      <td>20.125000</td>\n",
       "      <td>0.000000</td>\n",
       "      <td>0.000000</td>\n",
       "      <td>7.910400</td>\n",
       "    </tr>\n",
       "    <tr>\n",
       "      <th>50%</th>\n",
       "      <td>446.000000</td>\n",
       "      <td>0.000000</td>\n",
       "      <td>3.000000</td>\n",
       "      <td>28.000000</td>\n",
       "      <td>0.000000</td>\n",
       "      <td>0.000000</td>\n",
       "      <td>14.454200</td>\n",
       "    </tr>\n",
       "    <tr>\n",
       "      <th>75%</th>\n",
       "      <td>668.500000</td>\n",
       "      <td>1.000000</td>\n",
       "      <td>3.000000</td>\n",
       "      <td>38.000000</td>\n",
       "      <td>1.000000</td>\n",
       "      <td>0.000000</td>\n",
       "      <td>31.000000</td>\n",
       "    </tr>\n",
       "    <tr>\n",
       "      <th>max</th>\n",
       "      <td>891.000000</td>\n",
       "      <td>1.000000</td>\n",
       "      <td>3.000000</td>\n",
       "      <td>80.000000</td>\n",
       "      <td>8.000000</td>\n",
       "      <td>6.000000</td>\n",
       "      <td>512.329200</td>\n",
       "    </tr>\n",
       "  </tbody>\n",
       "</table>\n",
       "</div>"
      ],
      "text/plain": [
       "       PassengerId    Survived      Pclass         Age       SibSp  \\\n",
       "count   891.000000  891.000000  891.000000  714.000000  891.000000   \n",
       "mean    446.000000    0.383838    2.308642   29.699118    0.523008   \n",
       "std     257.353842    0.486592    0.836071   14.526497    1.102743   \n",
       "min       1.000000    0.000000    1.000000    0.420000    0.000000   \n",
       "25%     223.500000    0.000000    2.000000   20.125000    0.000000   \n",
       "50%     446.000000    0.000000    3.000000   28.000000    0.000000   \n",
       "75%     668.500000    1.000000    3.000000   38.000000    1.000000   \n",
       "max     891.000000    1.000000    3.000000   80.000000    8.000000   \n",
       "\n",
       "            Parch        Fare  \n",
       "count  891.000000  891.000000  \n",
       "mean     0.381594   32.204208  \n",
       "std      0.806057   49.693429  \n",
       "min      0.000000    0.000000  \n",
       "25%      0.000000    7.910400  \n",
       "50%      0.000000   14.454200  \n",
       "75%      0.000000   31.000000  \n",
       "max      6.000000  512.329200  "
      ]
     },
     "execution_count": 5,
     "metadata": {},
     "output_type": "execute_result"
    }
   ],
   "source": [
    "data.describe()"
   ]
  },
  {
   "cell_type": "code",
   "execution_count": 6,
   "id": "ad883c72",
   "metadata": {
    "execution": {
     "iopub.execute_input": "2024-04-29T04:28:19.033333Z",
     "iopub.status.busy": "2024-04-29T04:28:19.032953Z",
     "iopub.status.idle": "2024-04-29T04:28:19.039587Z",
     "shell.execute_reply": "2024-04-29T04:28:19.038443Z"
    },
    "papermill": {
     "duration": 0.023361,
     "end_time": "2024-04-29T04:28:19.041992",
     "exception": false,
     "start_time": "2024-04-29T04:28:19.018631",
     "status": "completed"
    },
    "tags": []
   },
   "outputs": [
    {
     "data": {
      "text/plain": [
       "(891, 12)"
      ]
     },
     "execution_count": 6,
     "metadata": {},
     "output_type": "execute_result"
    }
   ],
   "source": [
    "data.shape"
   ]
  },
  {
   "cell_type": "code",
   "execution_count": 7,
   "id": "cd49b0f5",
   "metadata": {
    "execution": {
     "iopub.execute_input": "2024-04-29T04:28:19.070426Z",
     "iopub.status.busy": "2024-04-29T04:28:19.069939Z",
     "iopub.status.idle": "2024-04-29T04:28:19.095639Z",
     "shell.execute_reply": "2024-04-29T04:28:19.094506Z"
    },
    "papermill": {
     "duration": 0.042704,
     "end_time": "2024-04-29T04:28:19.098017",
     "exception": false,
     "start_time": "2024-04-29T04:28:19.055313",
     "status": "completed"
    },
    "tags": []
   },
   "outputs": [
    {
     "name": "stdout",
     "output_type": "stream",
     "text": [
      "<class 'pandas.core.frame.DataFrame'>\n",
      "RangeIndex: 891 entries, 0 to 890\n",
      "Data columns (total 12 columns):\n",
      " #   Column       Non-Null Count  Dtype  \n",
      "---  ------       --------------  -----  \n",
      " 0   PassengerId  891 non-null    int64  \n",
      " 1   Survived     891 non-null    int64  \n",
      " 2   Pclass       891 non-null    int64  \n",
      " 3   Name         891 non-null    object \n",
      " 4   Sex          891 non-null    object \n",
      " 5   Age          714 non-null    float64\n",
      " 6   SibSp        891 non-null    int64  \n",
      " 7   Parch        891 non-null    int64  \n",
      " 8   Ticket       891 non-null    object \n",
      " 9   Fare         891 non-null    float64\n",
      " 10  Cabin        204 non-null    object \n",
      " 11  Embarked     889 non-null    object \n",
      "dtypes: float64(2), int64(5), object(5)\n",
      "memory usage: 83.7+ KB\n"
     ]
    }
   ],
   "source": [
    "data.info()"
   ]
  },
  {
   "cell_type": "code",
   "execution_count": 8,
   "id": "874f877a",
   "metadata": {
    "execution": {
     "iopub.execute_input": "2024-04-29T04:28:19.127069Z",
     "iopub.status.busy": "2024-04-29T04:28:19.126086Z",
     "iopub.status.idle": "2024-04-29T04:28:19.135614Z",
     "shell.execute_reply": "2024-04-29T04:28:19.134592Z"
    },
    "papermill": {
     "duration": 0.026684,
     "end_time": "2024-04-29T04:28:19.138300",
     "exception": false,
     "start_time": "2024-04-29T04:28:19.111616",
     "status": "completed"
    },
    "tags": []
   },
   "outputs": [
    {
     "data": {
      "text/plain": [
       "PassengerId      0\n",
       "Survived         0\n",
       "Pclass           0\n",
       "Name             0\n",
       "Sex              0\n",
       "Age            177\n",
       "SibSp            0\n",
       "Parch            0\n",
       "Ticket           0\n",
       "Fare             0\n",
       "Cabin          687\n",
       "Embarked         2\n",
       "dtype: int64"
      ]
     },
     "execution_count": 8,
     "metadata": {},
     "output_type": "execute_result"
    }
   ],
   "source": [
    "data.isnull().sum()"
   ]
  },
  {
   "cell_type": "code",
   "execution_count": 9,
   "id": "f97485b3",
   "metadata": {
    "execution": {
     "iopub.execute_input": "2024-04-29T04:28:19.174965Z",
     "iopub.status.busy": "2024-04-29T04:28:19.174016Z",
     "iopub.status.idle": "2024-04-29T04:28:19.181862Z",
     "shell.execute_reply": "2024-04-29T04:28:19.180800Z"
    },
    "papermill": {
     "duration": 0.026895,
     "end_time": "2024-04-29T04:28:19.184591",
     "exception": false,
     "start_time": "2024-04-29T04:28:19.157696",
     "status": "completed"
    },
    "tags": []
   },
   "outputs": [
    {
     "data": {
      "text/plain": [
       "0.7710437710437711"
      ]
     },
     "execution_count": 9,
     "metadata": {},
     "output_type": "execute_result"
    }
   ],
   "source": [
    "data['Cabin'].isnull().sum()/data.shape[0]"
   ]
  },
  {
   "cell_type": "code",
   "execution_count": 10,
   "id": "d69dfeec",
   "metadata": {
    "execution": {
     "iopub.execute_input": "2024-04-29T04:28:19.219165Z",
     "iopub.status.busy": "2024-04-29T04:28:19.218101Z",
     "iopub.status.idle": "2024-04-29T04:28:19.235925Z",
     "shell.execute_reply": "2024-04-29T04:28:19.234734Z"
    },
    "papermill": {
     "duration": 0.036528,
     "end_time": "2024-04-29T04:28:19.238720",
     "exception": false,
     "start_time": "2024-04-29T04:28:19.202192",
     "status": "completed"
    },
    "tags": []
   },
   "outputs": [
    {
     "name": "stdout",
     "output_type": "stream",
     "text": [
      "<class 'pandas.core.frame.DataFrame'>\n",
      "RangeIndex: 891 entries, 0 to 890\n",
      "Data columns (total 11 columns):\n",
      " #   Column       Non-Null Count  Dtype  \n",
      "---  ------       --------------  -----  \n",
      " 0   PassengerId  891 non-null    int64  \n",
      " 1   Survived     891 non-null    int64  \n",
      " 2   Pclass       891 non-null    int64  \n",
      " 3   Name         891 non-null    object \n",
      " 4   Sex          891 non-null    object \n",
      " 5   Age          714 non-null    float64\n",
      " 6   SibSp        891 non-null    int64  \n",
      " 7   Parch        891 non-null    int64  \n",
      " 8   Ticket       891 non-null    object \n",
      " 9   Fare         891 non-null    float64\n",
      " 10  Embarked     889 non-null    object \n",
      "dtypes: float64(2), int64(5), object(4)\n",
      "memory usage: 76.7+ KB\n"
     ]
    }
   ],
   "source": [
    "data=data.drop(['Cabin'],axis=1)\n",
    "data.info()"
   ]
  },
  {
   "cell_type": "code",
   "execution_count": 11,
   "id": "a6a72ad9",
   "metadata": {
    "execution": {
     "iopub.execute_input": "2024-04-29T04:28:19.268884Z",
     "iopub.status.busy": "2024-04-29T04:28:19.268481Z",
     "iopub.status.idle": "2024-04-29T04:28:19.279898Z",
     "shell.execute_reply": "2024-04-29T04:28:19.278776Z"
    },
    "papermill": {
     "duration": 0.029456,
     "end_time": "2024-04-29T04:28:19.282409",
     "exception": false,
     "start_time": "2024-04-29T04:28:19.252953",
     "status": "completed"
    },
    "tags": []
   },
   "outputs": [
    {
     "data": {
      "text/plain": [
       "Survived\n",
       "0    549\n",
       "1    342\n",
       "Name: count, dtype: int64"
      ]
     },
     "execution_count": 11,
     "metadata": {},
     "output_type": "execute_result"
    }
   ],
   "source": [
    "data['Survived'].value_counts()"
   ]
  },
  {
   "cell_type": "markdown",
   "id": "b9aa5ce8",
   "metadata": {
    "papermill": {
     "duration": 0.013938,
     "end_time": "2024-04-29T04:28:19.310741",
     "exception": false,
     "start_time": "2024-04-29T04:28:19.296803",
     "status": "completed"
    },
    "tags": []
   },
   "source": [
    "# **VISUALIZATION**"
   ]
  },
  {
   "cell_type": "code",
   "execution_count": 12,
   "id": "05c47637",
   "metadata": {
    "_kg_hide-input": true,
    "execution": {
     "iopub.execute_input": "2024-04-29T04:28:19.341939Z",
     "iopub.status.busy": "2024-04-29T04:28:19.341573Z",
     "iopub.status.idle": "2024-04-29T04:28:19.737115Z",
     "shell.execute_reply": "2024-04-29T04:28:19.735712Z"
    },
    "papermill": {
     "duration": 0.413851,
     "end_time": "2024-04-29T04:28:19.739748",
     "exception": false,
     "start_time": "2024-04-29T04:28:19.325897",
     "status": "completed"
    },
    "tags": []
   },
   "outputs": [
    {
     "data": {
      "image/png": "[encoded data removed]",
      "text/plain": [
       "<Figure size 1200x400 with 2 Axes>"
      ]
     },
     "metadata": {},
     "output_type": "display_data"
    }
   ],
   "source": [
    "# Creating subplots\n",
    "fig, axes = plt.subplots(1, 2, figsize=(12, 4))\n",
    "\n",
    "# Pie chart for Survived\n",
    "data['Survived'].value_counts().plot.pie(\n",
    "    explode=[0, 0.1],\n",
    "    autopct='%1.1f%%',\n",
    "    colors=['green', 'red'],\n",
    "    ax=axes[0],\n",
    "    shadow=False)\n",
    "axes[0].set_title('Survivors (1) and the deceased (0)')\n",
    "axes[0].set_ylabel('')\n",
    "\n",
    "# Count plot for Survived\n",
    "sns.countplot(x='Survived', data=data, ax=axes[1], palette=['green', 'red'])  \n",
    "axes[1].set_ylabel('Quantity')\n",
    "axes[1].set_title('Survivors (1) and the deceased (0)')\n",
    "\n",
    "# Show plot\n",
    "plt.show()\n"
   ]
  },
  {
   "cell_type": "code",
   "execution_count": 13,
   "id": "58140c90",
   "metadata": {
    "execution": {
     "iopub.execute_input": "2024-04-29T04:28:19.772638Z",
     "iopub.status.busy": "2024-04-29T04:28:19.772055Z",
     "iopub.status.idle": "2024-04-29T04:28:20.250208Z",
     "shell.execute_reply": "2024-04-29T04:28:20.248971Z"
    },
    "papermill": {
     "duration": 0.496827,
     "end_time": "2024-04-29T04:28:20.252715",
     "exception": false,
     "start_time": "2024-04-29T04:28:19.755888",
     "status": "completed"
    },
    "tags": []
   },
   "outputs": [
    {
     "data": {
      "image/png": "[encoded data removed]",
      "text/plain": [
       "<Figure size 1200x400 with 2 Axes>"
      ]
     },
     "metadata": {},
     "output_type": "display_data"
    }
   ],
   "source": [
    "# Creating subplots\n",
    "fig, axes = plt.subplots(1, 2, figsize=(12, 4))\n",
    "\n",
    "# Bar chart for Survivors by sex\n",
    "data[['Sex', 'Survived']].groupby(['Sex']).mean().plot.bar(ax=axes[0]) \n",
    "axes[0].set_title('Survivors by sex') \n",
    "\n",
    "# Count plot for Sex with custom colors\n",
    "sns.countplot(x='Sex', hue='Survived', data=data, ax=axes[1], palette={0: \"red\", 1: \"green\"}) \n",
    "axes[1].set_ylabel('Quantity') \n",
    "axes[1].set_title('Survived (1) and deceased (0): men and women') \n",
    "\n",
    "plt.show() \n"
   ]
  },
  {
   "cell_type": "code",
   "execution_count": 14,
   "id": "297f3464",
   "metadata": {
    "execution": {
     "iopub.execute_input": "2024-04-29T04:28:20.285660Z",
     "iopub.status.busy": "2024-04-29T04:28:20.285229Z",
     "iopub.status.idle": "2024-04-29T04:28:20.787861Z",
     "shell.execute_reply": "2024-04-29T04:28:20.786705Z"
    },
    "papermill": {
     "duration": 0.522326,
     "end_time": "2024-04-29T04:28:20.790317",
     "exception": false,
     "start_time": "2024-04-29T04:28:20.267991",
     "status": "completed"
    },
    "tags": []
   },
   "outputs": [
    {
     "data": {
      "image/png": "[encoded data removed]",
      "text/plain": [
       "<Figure size 1200x400 with 2 Axes>"
      ]
     },
     "metadata": {},
     "output_type": "display_data"
    }
   ],
   "source": [
    "# Creating subplots\n",
    "fig, axes = plt.subplots(1, 2, figsize=(12, 4))\n",
    "\n",
    "# Bar chart for Survivors by Pclass\n",
    "data[['Pclass', 'Survived']].groupby(['Pclass']).mean().plot.bar(ax=axes[0]) \n",
    "axes[0].set_title('Survivors by Pclass') \n",
    "\n",
    "# Count plot for Pclass with custom colors\n",
    "sns.countplot(x='Pclass', hue='Survived', data=data, ax=axes[1], palette={0: \"red\", 1: \"green\"}) \n",
    "axes[1].set_ylabel('Quantity') \n",
    "axes[1].set_title('Survived (1) and deceased (0): by Pclass') \n",
    "\n",
    "plt.show() \n"
   ]
  },
  {
   "cell_type": "code",
   "execution_count": 15,
   "id": "5c08b0e2",
   "metadata": {
    "execution": {
     "iopub.execute_input": "2024-04-29T04:28:20.824115Z",
     "iopub.status.busy": "2024-04-29T04:28:20.823721Z",
     "iopub.status.idle": "2024-04-29T04:28:21.351522Z",
     "shell.execute_reply": "2024-04-29T04:28:21.350447Z"
    },
    "papermill": {
     "duration": 0.548052,
     "end_time": "2024-04-29T04:28:21.354119",
     "exception": false,
     "start_time": "2024-04-29T04:28:20.806067",
     "status": "completed"
    },
    "tags": []
   },
   "outputs": [
    {
     "data": {
      "image/png": "[encoded data removed]",
      "text/plain": [
       "<Figure size 1200x400 with 2 Axes>"
      ]
     },
     "metadata": {},
     "output_type": "display_data"
    }
   ],
   "source": [
    "# Creating subplots\n",
    "fig, axes = plt.subplots(1, 2, figsize=(12, 4))\n",
    "\n",
    "# Bar chart for Survivors by Embarked\n",
    "data[['Embarked', 'Survived']].groupby(['Embarked']).mean().plot.bar(ax=axes[0]) \n",
    "axes[0].set_title('Survivors by Embarked') \n",
    "\n",
    "# Count plot for Embarked with custom colors\n",
    "sns.countplot(x='Embarked', hue='Survived', data=data, ax=axes[1], palette={0: \"red\", 1: \"green\"}) \n",
    "axes[1].set_ylabel('Quantity') \n",
    "axes[1].set_title('Survived (1) and deceased (0): by Embarked') \n",
    "\n",
    "plt.show() \n"
   ]
  },
  {
   "cell_type": "markdown",
   "id": "a642b451",
   "metadata": {
    "papermill": {
     "duration": 0.015767,
     "end_time": "2024-04-29T04:28:21.386255",
     "exception": false,
     "start_time": "2024-04-29T04:28:21.370488",
     "status": "completed"
    },
    "tags": []
   },
   "source": [
    "# **FEATURE ENGINEERING**"
   ]
  },
  {
   "cell_type": "code",
   "execution_count": 16,
   "id": "2d314a6d",
   "metadata": {
    "execution": {
     "iopub.execute_input": "2024-04-29T04:28:21.420810Z",
     "iopub.status.busy": "2024-04-29T04:28:21.420349Z",
     "iopub.status.idle": "2024-04-29T04:28:21.433207Z",
     "shell.execute_reply": "2024-04-29T04:28:21.431939Z"
    },
    "papermill": {
     "duration": 0.033582,
     "end_time": "2024-04-29T04:28:21.435970",
     "exception": false,
     "start_time": "2024-04-29T04:28:21.402388",
     "status": "completed"
    },
    "tags": []
   },
   "outputs": [
    {
     "name": "stdout",
     "output_type": "stream",
     "text": [
      "<class 'pandas.core.frame.DataFrame'>\n",
      "RangeIndex: 891 entries, 0 to 890\n",
      "Data columns (total 11 columns):\n",
      " #   Column       Non-Null Count  Dtype  \n",
      "---  ------       --------------  -----  \n",
      " 0   PassengerId  891 non-null    int64  \n",
      " 1   Survived     891 non-null    int64  \n",
      " 2   Pclass       891 non-null    int64  \n",
      " 3   Name         891 non-null    object \n",
      " 4   Sex          891 non-null    object \n",
      " 5   Age          714 non-null    float64\n",
      " 6   SibSp        891 non-null    int64  \n",
      " 7   Parch        891 non-null    int64  \n",
      " 8   Ticket       891 non-null    object \n",
      " 9   Fare         891 non-null    float64\n",
      " 10  Embarked     889 non-null    object \n",
      "dtypes: float64(2), int64(5), object(4)\n",
      "memory usage: 76.7+ KB\n"
     ]
    }
   ],
   "source": [
    "data.info()"
   ]
  },
  {
   "cell_type": "code",
   "execution_count": 17,
   "id": "493615cb",
   "metadata": {
    "execution": {
     "iopub.execute_input": "2024-04-29T04:28:21.471010Z",
     "iopub.status.busy": "2024-04-29T04:28:21.470609Z",
     "iopub.status.idle": "2024-04-29T04:28:21.476983Z",
     "shell.execute_reply": "2024-04-29T04:28:21.475895Z"
    },
    "papermill": {
     "duration": 0.026865,
     "end_time": "2024-04-29T04:28:21.479598",
     "exception": false,
     "start_time": "2024-04-29T04:28:21.452733",
     "status": "completed"
    },
    "tags": []
   },
   "outputs": [],
   "source": [
    "# Ticket consists of unique values and unlikely to provide any essential information \n",
    "data = data.drop(['Ticket'], axis=1)"
   ]
  },
  {
   "cell_type": "code",
   "execution_count": 18,
   "id": "3f0f8171",
   "metadata": {
    "execution": {
     "iopub.execute_input": "2024-04-29T04:28:21.514931Z",
     "iopub.status.busy": "2024-04-29T04:28:21.514030Z",
     "iopub.status.idle": "2024-04-29T04:28:21.523015Z",
     "shell.execute_reply": "2024-04-29T04:28:21.521974Z"
    },
    "papermill": {
     "duration": 0.029115,
     "end_time": "2024-04-29T04:28:21.525335",
     "exception": false,
     "start_time": "2024-04-29T04:28:21.496220",
     "status": "completed"
    },
    "tags": []
   },
   "outputs": [
    {
     "data": {
      "text/plain": [
       "Embarked\n",
       "S    644\n",
       "C    168\n",
       "Q     77\n",
       "Name: count, dtype: int64"
      ]
     },
     "execution_count": 18,
     "metadata": {},
     "output_type": "execute_result"
    }
   ],
   "source": [
    "data['Embarked'].value_counts()"
   ]
  },
  {
   "cell_type": "code",
   "execution_count": 19,
   "id": "2e7dbd51",
   "metadata": {
    "execution": {
     "iopub.execute_input": "2024-04-29T04:28:21.565065Z",
     "iopub.status.busy": "2024-04-29T04:28:21.564542Z",
     "iopub.status.idle": "2024-04-29T04:28:21.575569Z",
     "shell.execute_reply": "2024-04-29T04:28:21.574149Z"
    },
    "papermill": {
     "duration": 0.037557,
     "end_time": "2024-04-29T04:28:21.579591",
     "exception": false,
     "start_time": "2024-04-29T04:28:21.542034",
     "status": "completed"
    },
    "tags": []
   },
   "outputs": [],
   "source": [
    "# replacing the missing values in  \n",
    "# the Embarked feature with S \n",
    "data = data.fillna({\"Embarked\": \"S\"}) "
   ]
  },
  {
   "cell_type": "code",
   "execution_count": 20,
   "id": "8ef8cb61",
   "metadata": {
    "execution": {
     "iopub.execute_input": "2024-04-29T04:28:21.615899Z",
     "iopub.status.busy": "2024-04-29T04:28:21.615524Z",
     "iopub.status.idle": "2024-04-29T04:28:21.628278Z",
     "shell.execute_reply": "2024-04-29T04:28:21.627287Z"
    },
    "papermill": {
     "duration": 0.033831,
     "end_time": "2024-04-29T04:28:21.631125",
     "exception": false,
     "start_time": "2024-04-29T04:28:21.597294",
     "status": "completed"
    },
    "tags": []
   },
   "outputs": [],
   "source": [
    "# sort the ages into logical categories \n",
    "data[\"Age\"] = data[\"Age\"].fillna(-0.5) \n",
    "\n",
    "bins = [-1, 0, 5, 12, 18, 24, 35, 60, np.inf] \n",
    "\n",
    "labels = ['Unknown', 'Baby', 'Child', 'Teenager', \n",
    "          'Student', 'Young Adult', 'Adult', 'Senior'] \n",
    "\n",
    "data['AgeGroup'] = pd.cut(data[\"Age\"], bins, labels=labels) "
   ]
  },
  {
   "cell_type": "code",
   "execution_count": 21,
   "id": "d5373e29",
   "metadata": {
    "execution": {
     "iopub.execute_input": "2024-04-29T04:28:21.672427Z",
     "iopub.status.busy": "2024-04-29T04:28:21.672023Z",
     "iopub.status.idle": "2024-04-29T04:28:21.682519Z",
     "shell.execute_reply": "2024-04-29T04:28:21.681154Z"
    },
    "papermill": {
     "duration": 0.030941,
     "end_time": "2024-04-29T04:28:21.685013",
     "exception": false,
     "start_time": "2024-04-29T04:28:21.654072",
     "status": "completed"
    },
    "tags": []
   },
   "outputs": [
    {
     "data": {
      "text/plain": [
       "AgeGroup\n",
       "Young Adult    220\n",
       "Adult          195\n",
       "Unknown        177\n",
       "Student        138\n",
       "Teenager        70\n",
       "Baby            44\n",
       "Child           25\n",
       "Senior          22\n",
       "Name: count, dtype: int64"
      ]
     },
     "execution_count": 21,
     "metadata": {},
     "output_type": "execute_result"
    }
   ],
   "source": [
    "data['AgeGroup'].value_counts()"
   ]
  },
  {
   "cell_type": "code",
   "execution_count": 22,
   "id": "e3a0c417",
   "metadata": {
    "execution": {
     "iopub.execute_input": "2024-04-29T04:28:21.720827Z",
     "iopub.status.busy": "2024-04-29T04:28:21.720455Z",
     "iopub.status.idle": "2024-04-29T04:28:21.744093Z",
     "shell.execute_reply": "2024-04-29T04:28:21.743003Z"
    },
    "papermill": {
     "duration": 0.045097,
     "end_time": "2024-04-29T04:28:21.747106",
     "exception": false,
     "start_time": "2024-04-29T04:28:21.702009",
     "status": "completed"
    },
    "tags": []
   },
   "outputs": [],
   "source": [
    "# Extract a title for each Name in the 'data' dataset\n",
    "data['Title'] = data['Name'].str.extract(' ([A-Za-z]+)\\.', expand=False)\n",
    "\n",
    "# Replace various titles with more common names\n",
    "data['Title'] = data['Title'].replace(['Lady', 'Capt', 'Col', 'Don', 'Dr', 'Major', 'Rev', 'Jonkheer', 'Dona'], 'Rare')\n",
    "data['Title'] = data['Title'].replace(['Countess', 'Lady', 'Sir'], 'Royal')\n",
    "data['Title'] = data['Title'].replace('Mlle', 'Miss')\n",
    "data['Title'] = data['Title'].replace('Ms', 'Miss')\n",
    "data['Title'] = data['Title'].replace('Mme', 'Mrs')\n",
    "\n",
    "# Display the mean survival rate for each title\n",
    "title_survival_rate = data[['Title', 'Survived']].groupby(['Title'], as_index=False).mean()\n",
    "\n",
    "# Map each of the title groups to a numerical value\n",
    "title_mapping = {\"Mr\": 1, \"Miss\": 2, \"Mrs\": 3, \"Master\": 4, \"Royal\": 5, \"Rare\": 6}\n",
    "data['Title'] = data['Title'].map(title_mapping)\n",
    "data['Title'] = data['Title'].fillna(0)\n"
   ]
  },
  {
   "cell_type": "code",
   "execution_count": 23,
   "id": "ecc0222d",
   "metadata": {
    "execution": {
     "iopub.execute_input": "2024-04-29T04:28:21.782399Z",
     "iopub.status.busy": "2024-04-29T04:28:21.781988Z",
     "iopub.status.idle": "2024-04-29T04:28:21.879245Z",
     "shell.execute_reply": "2024-04-29T04:28:21.878119Z"
    },
    "papermill": {
     "duration": 0.118015,
     "end_time": "2024-04-29T04:28:21.881971",
     "exception": false,
     "start_time": "2024-04-29T04:28:21.763956",
     "status": "completed"
    },
    "tags": []
   },
   "outputs": [],
   "source": [
    "# Calculate the mode AgeGroup for each Title in the 'data' dataset\n",
    "mr_age = data[data[\"Title\"] == 1][\"AgeGroup\"].mode()[0]  # Young Adult\n",
    "miss_age = data[data[\"Title\"] == 2][\"AgeGroup\"].mode()[0]  # Student\n",
    "mrs_age = data[data[\"Title\"] == 3][\"AgeGroup\"].mode()[0]  # Adult\n",
    "master_age = data[data[\"Title\"] == 4][\"AgeGroup\"].mode()[0]  # Baby\n",
    "royal_age = data[data[\"Title\"] == 5][\"AgeGroup\"].mode()[0]  # Adult\n",
    "rare_age = data[data[\"Title\"] == 6][\"AgeGroup\"].mode()[0]  # Adult\n",
    "\n",
    "# Create a mapping from Title to AgeGroup for each Title\n",
    "age_title_mapping = {1: \"Young Adult\", 2: \"Student\", \n",
    "                     3: \"Adult\", 4: \"Baby\", 5: \"Adult\", 6: \"Adult\"}\n",
    "\n",
    "\"\"\"# Replace 'Unknown' AgeGroup with the mode AgeGroup for each Title\n",
    "for x in range(len(data[\"AgeGroup\"])):\n",
    "    if data[\"AgeGroup\"][x] == \"Unknown\":\n",
    "        data[\"AgeGroup\"][x] = age_title_mapping[data[\"Title\"][x]]\"\"\"\n",
    "\n",
    "# Replace 'Unknown' AgeGroup with the mode AgeGroup for each Title using .loc\n",
    "for x in range(len(data[\"AgeGroup\"])):\n",
    "    if data[\"AgeGroup\"][x] == \"Unknown\":\n",
    "        data.loc[x, \"AgeGroup\"] = age_title_mapping[data[\"Title\"][x]]"
   ]
  },
  {
   "cell_type": "code",
   "execution_count": 24,
   "id": "0dcb992b",
   "metadata": {
    "execution": {
     "iopub.execute_input": "2024-04-29T04:28:21.917086Z",
     "iopub.status.busy": "2024-04-29T04:28:21.916722Z",
     "iopub.status.idle": "2024-04-29T04:28:21.925215Z",
     "shell.execute_reply": "2024-04-29T04:28:21.924125Z"
    },
    "papermill": {
     "duration": 0.028825,
     "end_time": "2024-04-29T04:28:21.927621",
     "exception": false,
     "start_time": "2024-04-29T04:28:21.898796",
     "status": "completed"
    },
    "tags": []
   },
   "outputs": [],
   "source": [
    "# Map each Age value to a numerical value\n",
    "age_mapping = {'Baby': 1, 'Child': 2, 'Teenager': 3, \n",
    "               'Student': 4, 'Young Adult': 5, 'Adult': 6,  \n",
    "               'Senior': 7} \n",
    "data['AgeGroup'] = data['AgeGroup'].map(age_mapping) \n",
    "\n",
    "# Dropping the Age feature for now\n",
    "data = data.drop(['Age'], axis=1)\n"
   ]
  },
  {
   "cell_type": "code",
   "execution_count": 25,
   "id": "432c27d6",
   "metadata": {
    "execution": {
     "iopub.execute_input": "2024-04-29T04:28:21.962996Z",
     "iopub.status.busy": "2024-04-29T04:28:21.962620Z",
     "iopub.status.idle": "2024-04-29T04:28:21.968841Z",
     "shell.execute_reply": "2024-04-29T04:28:21.967710Z"
    },
    "papermill": {
     "duration": 0.026548,
     "end_time": "2024-04-29T04:28:21.971103",
     "exception": false,
     "start_time": "2024-04-29T04:28:21.944555",
     "status": "completed"
    },
    "tags": []
   },
   "outputs": [],
   "source": [
    "data = data.drop(['Name'], axis=1)"
   ]
  },
  {
   "cell_type": "code",
   "execution_count": 26,
   "id": "faa7803a",
   "metadata": {
    "execution": {
     "iopub.execute_input": "2024-04-29T04:28:22.009190Z",
     "iopub.status.busy": "2024-04-29T04:28:22.008160Z",
     "iopub.status.idle": "2024-04-29T04:28:22.018274Z",
     "shell.execute_reply": "2024-04-29T04:28:22.016872Z"
    },
    "papermill": {
     "duration": 0.032455,
     "end_time": "2024-04-29T04:28:22.021615",
     "exception": false,
     "start_time": "2024-04-29T04:28:21.989160",
     "status": "completed"
    },
    "tags": []
   },
   "outputs": [],
   "source": [
    "sex_mapping = {\"male\": 0, \"female\": 1} \n",
    "data['Sex'] = data['Sex'].map(sex_mapping) \n",
    "  \n",
    "embarked_mapping = {\"S\": 1, \"C\": 2, \"Q\": 3} \n",
    "data['Embarked'] = data['Embarked'].map(embarked_mapping)  "
   ]
  },
  {
   "cell_type": "code",
   "execution_count": 27,
   "id": "c500f0bc",
   "metadata": {
    "execution": {
     "iopub.execute_input": "2024-04-29T04:28:22.118168Z",
     "iopub.status.busy": "2024-04-29T04:28:22.117780Z",
     "iopub.status.idle": "2024-04-29T04:28:22.140650Z",
     "shell.execute_reply": "2024-04-29T04:28:22.139551Z"
    },
    "papermill": {
     "duration": 0.043742,
     "end_time": "2024-04-29T04:28:22.143236",
     "exception": false,
     "start_time": "2024-04-29T04:28:22.099494",
     "status": "completed"
    },
    "tags": []
   },
   "outputs": [],
   "source": [
    "# Handling missing values in Fare for the 'data' dataset\n",
    "for x in range(len(data[\"Fare\"])):\n",
    "    if pd.isnull(data[\"Fare\"][x]):\n",
    "        pclass = data[\"Pclass\"][x]  # Pclass\n",
    "        data[\"Fare\"][x] = round(data[data[\"Pclass\"] == pclass][\"Fare\"].mean(), 4)\n",
    "\n",
    "# Map Fare values into groups of numerical values\n",
    "data['FareBand'] = pd.qcut(data['Fare'], 4, labels=[1, 2, 3, 4])\n",
    "\n",
    "# Drop Fare values\n",
    "data = data.drop(['Fare'], axis=1)\n"
   ]
  },
  {
   "cell_type": "code",
   "execution_count": 28,
   "id": "c4a3bef4",
   "metadata": {
    "execution": {
     "iopub.execute_input": "2024-04-29T04:28:22.181002Z",
     "iopub.status.busy": "2024-04-29T04:28:22.180619Z",
     "iopub.status.idle": "2024-04-29T04:28:22.196459Z",
     "shell.execute_reply": "2024-04-29T04:28:22.195247Z"
    },
    "papermill": {
     "duration": 0.037809,
     "end_time": "2024-04-29T04:28:22.199104",
     "exception": false,
     "start_time": "2024-04-29T04:28:22.161295",
     "status": "completed"
    },
    "tags": []
   },
   "outputs": [
    {
     "name": "stdout",
     "output_type": "stream",
     "text": [
      "<class 'pandas.core.frame.DataFrame'>\n",
      "RangeIndex: 891 entries, 0 to 890\n",
      "Data columns (total 10 columns):\n",
      " #   Column       Non-Null Count  Dtype   \n",
      "---  ------       --------------  -----   \n",
      " 0   PassengerId  891 non-null    int64   \n",
      " 1   Survived     891 non-null    int64   \n",
      " 2   Pclass       891 non-null    int64   \n",
      " 3   Sex          891 non-null    int64   \n",
      " 4   SibSp        891 non-null    int64   \n",
      " 5   Parch        891 non-null    int64   \n",
      " 6   Embarked     891 non-null    int64   \n",
      " 7   AgeGroup     891 non-null    float64 \n",
      " 8   Title        891 non-null    int64   \n",
      " 9   FareBand     891 non-null    category\n",
      "dtypes: category(1), float64(1), int64(8)\n",
      "memory usage: 63.8 KB\n"
     ]
    }
   ],
   "source": [
    "data.info()"
   ]
  },
  {
   "cell_type": "code",
   "execution_count": 29,
   "id": "4e8e1089",
   "metadata": {
    "execution": {
     "iopub.execute_input": "2024-04-29T04:28:22.235078Z",
     "iopub.status.busy": "2024-04-29T04:28:22.234682Z",
     "iopub.status.idle": "2024-04-29T04:28:22.242776Z",
     "shell.execute_reply": "2024-04-29T04:28:22.241676Z"
    },
    "papermill": {
     "duration": 0.029103,
     "end_time": "2024-04-29T04:28:22.245422",
     "exception": false,
     "start_time": "2024-04-29T04:28:22.216319",
     "status": "completed"
    },
    "tags": []
   },
   "outputs": [
    {
     "data": {
      "text/plain": [
       "[1, 4, 2, 3]\n",
       "Categories (4, int64): [1 < 2 < 3 < 4]"
      ]
     },
     "execution_count": 29,
     "metadata": {},
     "output_type": "execute_result"
    }
   ],
   "source": [
    "data['FareBand'].unique()"
   ]
  },
  {
   "cell_type": "markdown",
   "id": "6410898c",
   "metadata": {
    "papermill": {
     "duration": 0.017177,
     "end_time": "2024-04-29T04:28:22.280117",
     "exception": false,
     "start_time": "2024-04-29T04:28:22.262940",
     "status": "completed"
    },
    "tags": []
   },
   "source": [
    "# **TEST AND TRAIN DATASET SPLIT**"
   ]
  },
  {
   "cell_type": "code",
   "execution_count": 30,
   "id": "f9f96d2c",
   "metadata": {
    "execution": {
     "iopub.execute_input": "2024-04-29T04:28:22.316226Z",
     "iopub.status.busy": "2024-04-29T04:28:22.315832Z",
     "iopub.status.idle": "2024-04-29T04:28:22.327808Z",
     "shell.execute_reply": "2024-04-29T04:28:22.326530Z"
    },
    "papermill": {
     "duration": 0.032992,
     "end_time": "2024-04-29T04:28:22.330383",
     "exception": false,
     "start_time": "2024-04-29T04:28:22.297391",
     "status": "completed"
    },
    "tags": []
   },
   "outputs": [],
   "source": [
    "from sklearn.model_selection import train_test_split \n",
    "\n",
    "# X are the features of the dataset\n",
    "X = data.drop(['Survived'], axis=1)\n",
    "\n",
    "# y is the target of the dataset\n",
    "y = data[\"Survived\"] \n",
    "\n",
    "x_train, x_test, y_train, y_test = train_test_split( X, y, test_size=0.2, random_state=0) "
   ]
  },
  {
   "cell_type": "markdown",
   "id": "6b8eb3b3",
   "metadata": {
    "papermill": {
     "duration": 0.016673,
     "end_time": "2024-04-29T04:28:22.364315",
     "exception": false,
     "start_time": "2024-04-29T04:28:22.347642",
     "status": "completed"
    },
    "tags": []
   },
   "source": [
    "# **MODEL TRAINING**\n",
    "\n",
    "* Logistic Regression\n",
    "* Random Forest Classifier"
   ]
  },
  {
   "cell_type": "code",
   "execution_count": 31,
   "id": "95aa7e3a",
   "metadata": {
    "execution": {
     "iopub.execute_input": "2024-04-29T04:28:22.400800Z",
     "iopub.status.busy": "2024-04-29T04:28:22.400395Z",
     "iopub.status.idle": "2024-04-29T04:28:22.471484Z",
     "shell.execute_reply": "2024-04-29T04:28:22.470261Z"
    },
    "papermill": {
     "duration": 0.09258,
     "end_time": "2024-04-29T04:28:22.473910",
     "exception": false,
     "start_time": "2024-04-29T04:28:22.381330",
     "status": "completed"
    },
    "tags": []
   },
   "outputs": [
    {
     "name": "stdout",
     "output_type": "stream",
     "text": [
      "Accuracy of Logistic Regression: 0.7877094972067039\n"
     ]
    }
   ],
   "source": [
    "from sklearn.linear_model import LogisticRegression\n",
    "from sklearn.metrics import accuracy_score\n",
    "\n",
    "# Initialize the logistic regression model\n",
    "logistic_reg = LogisticRegression(max_iter=1000, random_state=0)\n",
    "\n",
    "# Train the model on the training data\n",
    "logistic_reg.fit(x_train, y_train)\n",
    "\n",
    "# Predictions on the testing data\n",
    "y_pred = logistic_reg.predict(x_test)\n",
    "\n",
    "# Evaluate the accuracy of the model\n",
    "accuracy = accuracy_score(y_test, y_pred)\n",
    "print(\"Accuracy of Logistic Regression:\", accuracy)"
   ]
  },
  {
   "cell_type": "code",
   "execution_count": 32,
   "id": "3aa1415b",
   "metadata": {
    "execution": {
     "iopub.execute_input": "2024-04-29T04:28:22.510477Z",
     "iopub.status.busy": "2024-04-29T04:28:22.510076Z",
     "iopub.status.idle": "2024-04-29T04:28:22.965624Z",
     "shell.execute_reply": "2024-04-29T04:28:22.964433Z"
    },
    "papermill": {
     "duration": 0.476809,
     "end_time": "2024-04-29T04:28:22.968231",
     "exception": false,
     "start_time": "2024-04-29T04:28:22.491422",
     "status": "completed"
    },
    "tags": []
   },
   "outputs": [
    {
     "name": "stdout",
     "output_type": "stream",
     "text": [
      "Accuracy of Random Forest Classifier 0.8491620111731844\n"
     ]
    }
   ],
   "source": [
    "from sklearn.ensemble import RandomForestClassifier \n",
    "from sklearn.metrics import accuracy_score \n",
    "  \n",
    "randomforest = RandomForestClassifier() \n",
    "  \n",
    "# Fit the training data along with its output \n",
    "randomforest.fit(x_train, y_train) \n",
    "y_pred = randomforest.predict(x_test) \n",
    "  \n",
    "# Find the accuracy score of the model \n",
    "acc_randomforest = accuracy_score(y_test,y_pred)\n",
    "print(\"Accuracy of Random Forest Classifier\",acc_randomforest) "
   ]
  }
 ],
 "metadata": {
  "kaggle": {
   "accelerator": "none",
   "dataSources": [
    {
     "datasetId": 1818188,
     "sourceId": 2965537,
     "sourceType": "datasetVersion"
    }
   ],
   "dockerImageVersionId": 30684,
   "isGpuEnabled": false,
   "isInternetEnabled": false,
   "language": "python",
   "sourceType": "notebook"
  },
  "kernelspec": {
   "display_name": "Python 3",
   "language": "python",
   "name": "python3"
  },
  "language_info": {
   "codemirror_mode": {
    "name": "ipython",
    "version": 3
   },
   "file_extension": ".py",
   "mimetype": "text/x-python",
   "name": "python",
   "nbconvert_exporter": "python",
   "pygments_lexer": "ipython3",
   "version": "3.10.13"
  },
  "papermill": {
   "default_parameters": {},
   "duration": 10.938088,
   "end_time": "2024-04-29T04:28:23.606094",
   "environment_variables": {},
   "exception": null,
   "input_path": "__notebook__.ipynb",
   "output_path": "__notebook__.ipynb",
   "parameters": {},
   "start_time": "2024-04-29T04:28:12.668006",
   "version": "2.5.0"
  }
 },
 "nbformat": 4,
 "nbformat_minor": 5
}
